{
 "cells": [
  {
   "cell_type": "markdown",
   "metadata": {
    "slideshow": {
     "slide_type": "slide"
    }
   },
   "source": [
    "# Emotion Recognition Deep Learning Python"
   ]
  },
  {
   "cell_type": "markdown",
   "metadata": {
    "slideshow": {
     "slide_type": "fragment"
    }
   },
   "source": [
    "Deteksi Emosi secara Real-Time dengan Deep Learning Python"
   ]
  },
  {
   "cell_type": "markdown",
   "metadata": {
    "slideshow": {
     "slide_type": "slide"
    }
   },
   "source": [
    "Macam-Macam Ekspresi Wajah Manusia"
   ]
  },
  {
   "cell_type": "markdown",
   "metadata": {
    "slideshow": {
     "slide_type": "fragment"
    }
   },
   "source": [
    "<img src = \"ekspresi.png\" style=\"width:600px;height:320\">"
   ]
  },
  {
   "cell_type": "markdown",
   "metadata": {
    "slideshow": {
     "slide_type": "slide"
    }
   },
   "source": [
    "# Install Library yang Dibutuhkan"
   ]
  },
  {
   "cell_type": "markdown",
   "metadata": {
    "slideshow": {
     "slide_type": "fragment"
    }
   },
   "source": [
    "1. OpenCV --> pip install opencv-python\n",
    "2. OpenCV Contrib --> pip install opencv-contrib-python\n",
    "3. Keras --> pip install keras\n",
    "4. Tensorflow --> pip install tensorflow\n",
    "5. Imutils --> pip install imutils"
   ]
  },
  {
   "cell_type": "markdown",
   "metadata": {
    "slideshow": {
     "slide_type": "slide"
    }
   },
   "source": [
    "# Code Program Emotion Detection"
   ]
  },
  {
   "cell_type": "markdown",
   "metadata": {
    "slideshow": {
     "slide_type": "subslide"
    }
   },
   "source": [
    "## Masukan Library yang di butuhkan"
   ]
  },
  {
   "cell_type": "code",
   "execution_count": 15,
   "metadata": {
    "slideshow": {
     "slide_type": "fragment"
    }
   },
   "outputs": [],
   "source": [
    "import numpy as np\n",
    "import cv2\n",
    "import time\n",
    "from keras_preprocessing import image"
   ]
  },
  {
   "cell_type": "markdown",
   "metadata": {
    "slideshow": {
     "slide_type": "subslide"
    }
   },
   "source": [
    "## Tambahkan File Haarcascade Frontal Face"
   ]
  },
  {
   "cell_type": "markdown",
   "metadata": {
    "slideshow": {
     "slide_type": "fragment"
    }
   },
   "source": [
    "Untuk mendeteksi bagian wajah bagian depan"
   ]
  },
  {
   "cell_type": "code",
   "execution_count": 19,
   "metadata": {
    "slideshow": {
     "slide_type": "fragment"
    }
   },
   "outputs": [],
   "source": [
    "face_cascade = cv2.CascadeClassifier('haarcascade_frontalface_default.xml')"
   ]
  },
  {
   "cell_type": "markdown",
   "metadata": {
    "slideshow": {
     "slide_type": "subslide"
    }
   },
   "source": [
    "## Tambahkan Script Untuk Capture Video"
   ]
  },
  {
   "cell_type": "code",
   "execution_count": 22,
   "metadata": {
    "slideshow": {
     "slide_type": "fragment"
    }
   },
   "outputs": [],
   "source": [
    "cap = cv2.VideoCapture(0) # 0 --> Web Cam Internal"
   ]
  },
  {
   "cell_type": "markdown",
   "metadata": {
    "slideshow": {
     "slide_type": "subslide"
    }
   },
   "source": [
    "## Masukan Model Hasil Training"
   ]
  },
  {
   "cell_type": "markdown",
   "metadata": {
    "slideshow": {
     "slide_type": "fragment"
    }
   },
   "source": [
    "Model yang berisikan pola wajah untuk identifikasi ekspresi wajah"
   ]
  },
  {
   "cell_type": "code",
   "execution_count": 25,
   "metadata": {
    "slideshow": {
     "slide_type": "fragment"
    }
   },
   "outputs": [
    {
     "ename": "TypeError",
     "evalue": "Could not locate class 'Sequential'. Make sure custom classes are decorated with `@keras.saving.register_keras_serializable()`. Full object config: {'class_name': 'Sequential', 'backend': 'tensorflow', 'config': [{'class_name': 'Conv2D', 'config': {'dtype': 'float32', 'padding': 'valid', 'filters': 64, 'trainable': True, 'activation': 'relu', 'strides': [1, 1], 'name': 'conv2d_1', 'dilation_rate': [1, 1], 'kernel_initializer': {'class_name': 'VarianceScaling', 'config': {'distribution': 'uniform', 'mode': 'fan_avg', 'scale': 1.0}}, 'data_format': 'channels_last', 'use_bias': True, 'batch_input_shape': [None, 48, 48, 1], 'kernel_size': [5, 5], 'bias_initializer': {'class_name': 'Zeros', 'config': {}}}}, {'class_name': 'MaxPooling2D', 'config': {'name': 'max_pooling2d_1', 'padding': 'valid', 'pool_size': [5, 5], 'data_format': 'channels_last', 'trainable': True, 'strides': [2, 2]}}, {'class_name': 'Conv2D', 'config': {'padding': 'valid', 'filters': 64, 'trainable': True, 'activation': 'relu', 'strides': [1, 1], 'name': 'conv2d_2', 'dilation_rate': [1, 1], 'kernel_initializer': {'class_name': 'VarianceScaling', 'config': {'distribution': 'uniform', 'mode': 'fan_avg', 'scale': 1.0}}, 'data_format': 'channels_last', 'use_bias': True, 'kernel_size': [3, 3], 'bias_initializer': {'class_name': 'Zeros', 'config': {}}}}, {'class_name': 'Conv2D', 'config': {'padding': 'valid', 'filters': 64, 'trainable': True, 'activation': 'relu', 'strides': [1, 1], 'name': 'conv2d_3', 'dilation_rate': [1, 1], 'kernel_initializer': {'class_name': 'VarianceScaling', 'config': {'distribution': 'uniform', 'mode': 'fan_avg', 'scale': 1.0}}, 'data_format': 'channels_last', 'use_bias': True, 'kernel_size': [3, 3], 'bias_initializer': {'class_name': 'Zeros', 'config': {}}}}, {'class_name': 'AveragePooling2D', 'config': {'name': 'average_pooling2d_1', 'padding': 'valid', 'pool_size': [3, 3], 'data_format': 'channels_last', 'trainable': True, 'strides': [2, 2]}}, {'class_name': 'Conv2D', 'config': {'padding': 'valid', 'filters': 128, 'trainable': True, 'activation': 'relu', 'strides': [1, 1], 'name': 'conv2d_4', 'dilation_rate': [1, 1], 'kernel_initializer': {'class_name': 'VarianceScaling', 'config': {'distribution': 'uniform', 'mode': 'fan_avg', 'scale': 1.0}}, 'data_format': 'channels_last', 'use_bias': True, 'kernel_size': [3, 3], 'bias_initializer': {'class_name': 'Zeros', 'config': {}}}}, {'class_name': 'Conv2D', 'config': {'padding': 'valid', 'filters': 128, 'trainable': True, 'activation': 'relu', 'strides': [1, 1], 'name': 'conv2d_5', 'dilation_rate': [1, 1], 'kernel_initializer': {'class_name': 'VarianceScaling', 'config': {'distribution': 'uniform', 'mode': 'fan_avg', 'scale': 1.0}}, 'data_format': 'channels_last', 'use_bias': True, 'kernel_size': [3, 3], 'bias_initializer': {'class_name': 'Zeros', 'config': {}}}}, {'class_name': 'AveragePooling2D', 'config': {'name': 'average_pooling2d_2', 'padding': 'valid', 'pool_size': [3, 3], 'data_format': 'channels_last', 'trainable': True, 'strides': [2, 2]}}, {'class_name': 'Flatten', 'config': {'name': 'flatten_1', 'trainable': True}}, {'class_name': 'Dense', 'config': {'use_bias': True, 'trainable': True, 'activation': 'relu', 'name': 'dense_1', 'kernel_initializer': {'class_name': 'VarianceScaling', 'config': {'distribution': 'uniform', 'mode': 'fan_avg', 'scale': 1.0}}, 'units': 1024, 'bias_initializer': {'class_name': 'Zeros', 'config': {}}}}, {'class_name': 'Dropout', 'config': {'name': 'dropout_1', 'trainable': True, 'rate': 0.2}}, {'class_name': 'Dense', 'config': {'use_bias': True, 'trainable': True, 'activation': 'relu', 'name': 'dense_2', 'kernel_initializer': {'class_name': 'VarianceScaling', 'config': {'distribution': 'uniform', 'mode': 'fan_avg', 'scale': 1.0}}, 'units': 1024, 'bias_initializer': {'class_name': 'Zeros', 'config': {}}}}, {'class_name': 'Dropout', 'config': {'name': 'dropout_2', 'trainable': True, 'rate': 0.2}}, {'class_name': 'Dense', 'config': {'use_bias': True, 'trainable': True, 'activation': 'softmax', 'name': 'dense_3', 'kernel_initializer': {'class_name': 'VarianceScaling', 'config': {'distribution': 'uniform', 'mode': 'fan_avg', 'scale': 1.0}}, 'units': 7, 'bias_initializer': {'class_name': 'Zeros', 'config': {}}}}], 'keras_version': '2.4.2'}",
     "output_type": "error",
     "traceback": [
      "\u001b[1;31m---------------------------------------------------------------------------\u001b[0m",
      "\u001b[1;31mTypeError\u001b[0m                                 Traceback (most recent call last)",
      "Cell \u001b[1;32mIn[25], line 2\u001b[0m\n\u001b[0;32m      1\u001b[0m \u001b[38;5;28;01mfrom\u001b[39;00m \u001b[38;5;21;01mtensorflow\u001b[39;00m\u001b[38;5;21;01m.\u001b[39;00m\u001b[38;5;21;01mkeras\u001b[39;00m\u001b[38;5;21;01m.\u001b[39;00m\u001b[38;5;21;01mmodels\u001b[39;00m \u001b[38;5;28;01mimport\u001b[39;00m model_from_json\n\u001b[1;32m----> 2\u001b[0m model \u001b[38;5;241m=\u001b[39m model_from_json(\u001b[38;5;28mopen\u001b[39m(\u001b[38;5;124m'\u001b[39m\u001b[38;5;124mfacial_expression_model_structure.json\u001b[39m\u001b[38;5;124m'\u001b[39m)\u001b[38;5;241m.\u001b[39mread())\n\u001b[0;32m      3\u001b[0m model\u001b[38;5;241m.\u001b[39mload_weights(\u001b[38;5;124m'\u001b[39m\u001b[38;5;124mfacial_expression_model_weights.h5\u001b[39m\u001b[38;5;124m'\u001b[39m)\n",
      "File \u001b[1;32mD:\\APP\\Anaconda\\Lib\\site-packages\\keras\\src\\models\\model.py:752\u001b[0m, in \u001b[0;36mmodel_from_json\u001b[1;34m(json_string, custom_objects)\u001b[0m\n\u001b[0;32m    749\u001b[0m \u001b[38;5;28;01mfrom\u001b[39;00m \u001b[38;5;21;01mkeras\u001b[39;00m\u001b[38;5;21;01m.\u001b[39;00m\u001b[38;5;21;01msrc\u001b[39;00m\u001b[38;5;21;01m.\u001b[39;00m\u001b[38;5;21;01msaving\u001b[39;00m \u001b[38;5;28;01mimport\u001b[39;00m serialization_lib\n\u001b[0;32m    751\u001b[0m model_config \u001b[38;5;241m=\u001b[39m json\u001b[38;5;241m.\u001b[39mloads(json_string)\n\u001b[1;32m--> 752\u001b[0m \u001b[38;5;28;01mreturn\u001b[39;00m serialization_lib\u001b[38;5;241m.\u001b[39mdeserialize_keras_object(\n\u001b[0;32m    753\u001b[0m     model_config, custom_objects\u001b[38;5;241m=\u001b[39mcustom_objects\n\u001b[0;32m    754\u001b[0m )\n",
      "File \u001b[1;32mD:\\APP\\Anaconda\\Lib\\site-packages\\keras\\src\\saving\\serialization_lib.py:694\u001b[0m, in \u001b[0;36mdeserialize_keras_object\u001b[1;34m(config, custom_objects, safe_mode, **kwargs)\u001b[0m\n\u001b[0;32m    691\u001b[0m     \u001b[38;5;28;01mif\u001b[39;00m obj \u001b[38;5;129;01mis\u001b[39;00m \u001b[38;5;129;01mnot\u001b[39;00m \u001b[38;5;28;01mNone\u001b[39;00m:\n\u001b[0;32m    692\u001b[0m         \u001b[38;5;28;01mreturn\u001b[39;00m obj\n\u001b[1;32m--> 694\u001b[0m \u001b[38;5;28mcls\u001b[39m \u001b[38;5;241m=\u001b[39m _retrieve_class_or_fn(\n\u001b[0;32m    695\u001b[0m     class_name,\n\u001b[0;32m    696\u001b[0m     registered_name,\n\u001b[0;32m    697\u001b[0m     module,\n\u001b[0;32m    698\u001b[0m     obj_type\u001b[38;5;241m=\u001b[39m\u001b[38;5;124m\"\u001b[39m\u001b[38;5;124mclass\u001b[39m\u001b[38;5;124m\"\u001b[39m,\n\u001b[0;32m    699\u001b[0m     full_config\u001b[38;5;241m=\u001b[39mconfig,\n\u001b[0;32m    700\u001b[0m     custom_objects\u001b[38;5;241m=\u001b[39mcustom_objects,\n\u001b[0;32m    701\u001b[0m )\n\u001b[0;32m    703\u001b[0m \u001b[38;5;28;01mif\u001b[39;00m \u001b[38;5;28misinstance\u001b[39m(\u001b[38;5;28mcls\u001b[39m, types\u001b[38;5;241m.\u001b[39mFunctionType):\n\u001b[0;32m    704\u001b[0m     \u001b[38;5;28;01mreturn\u001b[39;00m \u001b[38;5;28mcls\u001b[39m\n",
      "File \u001b[1;32mD:\\APP\\Anaconda\\Lib\\site-packages\\keras\\src\\saving\\serialization_lib.py:812\u001b[0m, in \u001b[0;36m_retrieve_class_or_fn\u001b[1;34m(name, registered_name, module, obj_type, full_config, custom_objects)\u001b[0m\n\u001b[0;32m    809\u001b[0m     \u001b[38;5;28;01mif\u001b[39;00m obj \u001b[38;5;129;01mis\u001b[39;00m \u001b[38;5;129;01mnot\u001b[39;00m \u001b[38;5;28;01mNone\u001b[39;00m:\n\u001b[0;32m    810\u001b[0m         \u001b[38;5;28;01mreturn\u001b[39;00m obj\n\u001b[1;32m--> 812\u001b[0m \u001b[38;5;28;01mraise\u001b[39;00m \u001b[38;5;167;01mTypeError\u001b[39;00m(\n\u001b[0;32m    813\u001b[0m     \u001b[38;5;124mf\u001b[39m\u001b[38;5;124m\"\u001b[39m\u001b[38;5;124mCould not locate \u001b[39m\u001b[38;5;132;01m{\u001b[39;00mobj_type\u001b[38;5;132;01m}\u001b[39;00m\u001b[38;5;124m \u001b[39m\u001b[38;5;124m'\u001b[39m\u001b[38;5;132;01m{\u001b[39;00mname\u001b[38;5;132;01m}\u001b[39;00m\u001b[38;5;124m'\u001b[39m\u001b[38;5;124m. \u001b[39m\u001b[38;5;124m\"\u001b[39m\n\u001b[0;32m    814\u001b[0m     \u001b[38;5;124m\"\u001b[39m\u001b[38;5;124mMake sure custom classes are decorated with \u001b[39m\u001b[38;5;124m\"\u001b[39m\n\u001b[0;32m    815\u001b[0m     \u001b[38;5;124m\"\u001b[39m\u001b[38;5;124m`@keras.saving.register_keras_serializable()`. \u001b[39m\u001b[38;5;124m\"\u001b[39m\n\u001b[0;32m    816\u001b[0m     \u001b[38;5;124mf\u001b[39m\u001b[38;5;124m\"\u001b[39m\u001b[38;5;124mFull object config: \u001b[39m\u001b[38;5;132;01m{\u001b[39;00mfull_config\u001b[38;5;132;01m}\u001b[39;00m\u001b[38;5;124m\"\u001b[39m\n\u001b[0;32m    817\u001b[0m )\n",
      "\u001b[1;31mTypeError\u001b[0m: Could not locate class 'Sequential'. Make sure custom classes are decorated with `@keras.saving.register_keras_serializable()`. Full object config: {'class_name': 'Sequential', 'backend': 'tensorflow', 'config': [{'class_name': 'Conv2D', 'config': {'dtype': 'float32', 'padding': 'valid', 'filters': 64, 'trainable': True, 'activation': 'relu', 'strides': [1, 1], 'name': 'conv2d_1', 'dilation_rate': [1, 1], 'kernel_initializer': {'class_name': 'VarianceScaling', 'config': {'distribution': 'uniform', 'mode': 'fan_avg', 'scale': 1.0}}, 'data_format': 'channels_last', 'use_bias': True, 'batch_input_shape': [None, 48, 48, 1], 'kernel_size': [5, 5], 'bias_initializer': {'class_name': 'Zeros', 'config': {}}}}, {'class_name': 'MaxPooling2D', 'config': {'name': 'max_pooling2d_1', 'padding': 'valid', 'pool_size': [5, 5], 'data_format': 'channels_last', 'trainable': True, 'strides': [2, 2]}}, {'class_name': 'Conv2D', 'config': {'padding': 'valid', 'filters': 64, 'trainable': True, 'activation': 'relu', 'strides': [1, 1], 'name': 'conv2d_2', 'dilation_rate': [1, 1], 'kernel_initializer': {'class_name': 'VarianceScaling', 'config': {'distribution': 'uniform', 'mode': 'fan_avg', 'scale': 1.0}}, 'data_format': 'channels_last', 'use_bias': True, 'kernel_size': [3, 3], 'bias_initializer': {'class_name': 'Zeros', 'config': {}}}}, {'class_name': 'Conv2D', 'config': {'padding': 'valid', 'filters': 64, 'trainable': True, 'activation': 'relu', 'strides': [1, 1], 'name': 'conv2d_3', 'dilation_rate': [1, 1], 'kernel_initializer': {'class_name': 'VarianceScaling', 'config': {'distribution': 'uniform', 'mode': 'fan_avg', 'scale': 1.0}}, 'data_format': 'channels_last', 'use_bias': True, 'kernel_size': [3, 3], 'bias_initializer': {'class_name': 'Zeros', 'config': {}}}}, {'class_name': 'AveragePooling2D', 'config': {'name': 'average_pooling2d_1', 'padding': 'valid', 'pool_size': [3, 3], 'data_format': 'channels_last', 'trainable': True, 'strides': [2, 2]}}, {'class_name': 'Conv2D', 'config': {'padding': 'valid', 'filters': 128, 'trainable': True, 'activation': 'relu', 'strides': [1, 1], 'name': 'conv2d_4', 'dilation_rate': [1, 1], 'kernel_initializer': {'class_name': 'VarianceScaling', 'config': {'distribution': 'uniform', 'mode': 'fan_avg', 'scale': 1.0}}, 'data_format': 'channels_last', 'use_bias': True, 'kernel_size': [3, 3], 'bias_initializer': {'class_name': 'Zeros', 'config': {}}}}, {'class_name': 'Conv2D', 'config': {'padding': 'valid', 'filters': 128, 'trainable': True, 'activation': 'relu', 'strides': [1, 1], 'name': 'conv2d_5', 'dilation_rate': [1, 1], 'kernel_initializer': {'class_name': 'VarianceScaling', 'config': {'distribution': 'uniform', 'mode': 'fan_avg', 'scale': 1.0}}, 'data_format': 'channels_last', 'use_bias': True, 'kernel_size': [3, 3], 'bias_initializer': {'class_name': 'Zeros', 'config': {}}}}, {'class_name': 'AveragePooling2D', 'config': {'name': 'average_pooling2d_2', 'padding': 'valid', 'pool_size': [3, 3], 'data_format': 'channels_last', 'trainable': True, 'strides': [2, 2]}}, {'class_name': 'Flatten', 'config': {'name': 'flatten_1', 'trainable': True}}, {'class_name': 'Dense', 'config': {'use_bias': True, 'trainable': True, 'activation': 'relu', 'name': 'dense_1', 'kernel_initializer': {'class_name': 'VarianceScaling', 'config': {'distribution': 'uniform', 'mode': 'fan_avg', 'scale': 1.0}}, 'units': 1024, 'bias_initializer': {'class_name': 'Zeros', 'config': {}}}}, {'class_name': 'Dropout', 'config': {'name': 'dropout_1', 'trainable': True, 'rate': 0.2}}, {'class_name': 'Dense', 'config': {'use_bias': True, 'trainable': True, 'activation': 'relu', 'name': 'dense_2', 'kernel_initializer': {'class_name': 'VarianceScaling', 'config': {'distribution': 'uniform', 'mode': 'fan_avg', 'scale': 1.0}}, 'units': 1024, 'bias_initializer': {'class_name': 'Zeros', 'config': {}}}}, {'class_name': 'Dropout', 'config': {'name': 'dropout_2', 'trainable': True, 'rate': 0.2}}, {'class_name': 'Dense', 'config': {'use_bias': True, 'trainable': True, 'activation': 'softmax', 'name': 'dense_3', 'kernel_initializer': {'class_name': 'VarianceScaling', 'config': {'distribution': 'uniform', 'mode': 'fan_avg', 'scale': 1.0}}, 'units': 7, 'bias_initializer': {'class_name': 'Zeros', 'config': {}}}}], 'keras_version': '2.4.2'}"
     ]
    }
   ],
   "source": [
    "from tensorflow.keras.models import model_from_json\n",
    "model = model_from_json(open('facial_expression_model_structure.json').read())\n",
    "model.load_weights('facial_expression_model_weights.h5') "
   ]
  },
  {
   "cell_type": "markdown",
   "metadata": {
    "slideshow": {
     "slide_type": "subslide"
    }
   },
   "source": [
    "## Masukan Jenis-Jenis Emosi"
   ]
  },
  {
   "cell_type": "code",
   "execution_count": null,
   "metadata": {
    "slideshow": {
     "slide_type": "fragment"
    }
   },
   "outputs": [],
   "source": [
    "emotions = ('Marah', 'Jijik', 'Takut', 'Senang', 'Sedih', 'Terkejut','Biasa')"
   ]
  },
  {
   "cell_type": "markdown",
   "metadata": {
    "slideshow": {
     "slide_type": "subslide"
    }
   },
   "source": [
    "## Lakukan Looping untuk Mendapatkan Data Secara Real-Time"
   ]
  },
  {
   "cell_type": "code",
   "execution_count": null,
   "metadata": {
    "slideshow": {
     "slide_type": "fragment"
    }
   },
   "outputs": [],
   "source": [
    "while (True):\n",
    "    ret, img = cap.read()\n",
    "    gray = cv2.cvtColor(img, cv2.COLOR_BGR2GRAY)\n",
    "    faces = face_cascade.detectMultiScale(gray, 1.3, 5)\n",
    "    \n",
    "    for (x, y, w, h) in faces:\n",
    "        cv2.rectangle(img, (x, y), (x + w, y + h), (255, 0, 0), 2)\n",
    "        detected_face = img[int(y):int(y + h), int(x):int(x + w)]\n",
    "        detected_face = cv2.cvtColor(detected_face, cv2.COLOR_BGR2GRAY)\n",
    "        detected_face = cv2.resize(detected_face, (48, 48))\n",
    "        img_pixels = image.img_to_array(detected_face)\n",
    "        img_pixels = np.expand_dims(img_pixels, axis=0)\n",
    "        img_pixels /= 255\n",
    "        predictions = model.predict(img_pixels)\n",
    "        max_index = np.argmax(predictions[0])\n",
    "        emotion = emotions[max_index]\n",
    "        cv2.putText(img, emotion, (int(x), int(y)), cv2.FONT_HERSHEY_SIMPLEX, 1, (255, 255, 255), 2)\n",
    "        cv2.imshow('img', img)\n",
    "        \n",
    "    if cv2.waitKey(1) & 0xFF == ord('q'): # press q to quit\n",
    "        break"
   ]
  },
  {
   "cell_type": "markdown",
   "metadata": {},
   "source": []
  },
  {
   "cell_type": "markdown",
   "metadata": {
    "slideshow": {
     "slide_type": "subslide"
    }
   },
   "source": [
    "## Menutup Semua Window yang Aktif"
   ]
  },
  {
   "cell_type": "code",
   "execution_count": null,
   "metadata": {
    "slideshow": {
     "slide_type": "fragment"
    }
   },
   "outputs": [],
   "source": [
    "cap.release()\n",
    "cv2.destroyAllWindows()"
   ]
  },
  {
   "cell_type": "code",
   "execution_count": null,
   "metadata": {},
   "outputs": [],
   "source": []
  },
  {
   "cell_type": "code",
   "execution_count": null,
   "metadata": {},
   "outputs": [],
   "source": []
  },
  {
   "cell_type": "markdown",
   "metadata": {
    "slideshow": {
     "slide_type": "slide"
    }
   },
   "source": [
    "<img src = \"thank-you.png\" style=\"align=center\">"
   ]
  },
  {
   "cell_type": "code",
   "execution_count": null,
   "metadata": {},
   "outputs": [],
   "source": []
  },
  {
   "cell_type": "code",
   "execution_count": null,
   "metadata": {},
   "outputs": [],
   "source": []
  },
  {
   "cell_type": "code",
   "execution_count": null,
   "metadata": {},
   "outputs": [],
   "source": []
  },
  {
   "cell_type": "code",
   "execution_count": null,
   "metadata": {},
   "outputs": [],
   "source": []
  },
  {
   "cell_type": "code",
   "execution_count": null,
   "metadata": {},
   "outputs": [],
   "source": []
  }
 ],
 "metadata": {
  "celltoolbar": "Slideshow",
  "kernelspec": {
   "display_name": "Python 3 (ipykernel)",
   "language": "python",
   "name": "python3"
  },
  "language_info": {
   "codemirror_mode": {
    "name": "ipython",
    "version": 3
   },
   "file_extension": ".py",
   "mimetype": "text/x-python",
   "name": "python",
   "nbconvert_exporter": "python",
   "pygments_lexer": "ipython3",
   "version": "3.12.4"
  }
 },
 "nbformat": 4,
 "nbformat_minor": 4
}
